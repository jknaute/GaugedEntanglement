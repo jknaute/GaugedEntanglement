{
 "cells": [
  {
   "cell_type": "markdown",
   "id": "b9bf5110",
   "metadata": {},
   "source": [
    "# Numerical evaluation of second Renyi entropy in Z2 LGT using gauged PEPS transfer operator method"
   ]
  },
  {
   "cell_type": "code",
   "execution_count": 1,
   "id": "d69d7877",
   "metadata": {},
   "outputs": [],
   "source": [
    "import numpy as np\n",
    "import math\n",
    "import matplotlib.pyplot as plt\n",
    "from scipy.linalg import schur, eigvals, eig\n",
    "from itertools import product"
   ]
  },
  {
   "cell_type": "markdown",
   "id": "27d47478",
   "metadata": {},
   "source": [
    "## Basic elements: transfer operator matrix $\\tau_0$ and boundary operator $X$"
   ]
  },
  {
   "cell_type": "code",
   "execution_count": 2,
   "id": "9b3a8d21",
   "metadata": {},
   "outputs": [],
   "source": [
    "# Parameters:\n",
    "alpha = 1.0\n",
    "beta  = 0.1\n",
    "gamma = 0.0\n",
    "delta = 0.95"
   ]
  },
  {
   "cell_type": "code",
   "execution_count": 3,
   "id": "bc7520c4",
   "metadata": {},
   "outputs": [
    {
     "data": {
      "text/plain": [
       "array([[1.    , 0.    , 0.    , 0.    ],\n",
       "       [0.    , 0.9025, 0.    , 0.    ],\n",
       "       [0.    , 0.    , 0.01  , 0.01  ],\n",
       "       [0.    , 0.    , 0.01  , 0.01  ]])"
      ]
     },
     "execution_count": 3,
     "metadata": {},
     "output_type": "execute_result"
    }
   ],
   "source": [
    "tau0 = np.array([[np.abs(alpha)**2, np.abs(gamma)**2, 0, 0],\n",
    "                 [np.abs(gamma)**2, np.abs(delta)**2, 0, 0],\n",
    "                 [0               , 0               , np.abs(beta)**2, np.abs(beta)**2],\n",
    "                 [0               , 0               , np.abs(beta)**2, np.abs(beta)**2]\n",
    "                ])\n",
    "tau0"
   ]
  },
  {
   "cell_type": "code",
   "execution_count": 4,
   "id": "fb62de70",
   "metadata": {},
   "outputs": [
    {
     "name": "stdout",
     "output_type": "stream",
     "text": [
      "l1...l4 num:     [0.02   0.     1.     0.9025]\n"
     ]
    }
   ],
   "source": [
    "# a Schur decomposition realizes (71) for a real block-diagonal tau0 into orthogonal V and diagonal L:\n",
    "L,V = schur(tau0)\n",
    "lambda_vals = np.diag(L)\n",
    "print(\"l1...l4 num:    \",lambda_vals)"
   ]
  },
  {
   "cell_type": "code",
   "execution_count": 5,
   "id": "18003c23",
   "metadata": {
    "scrolled": true
   },
   "outputs": [
    {
     "data": {
      "text/plain": [
       "array([[ 0.        ,  0.        ,  1.        ,  0.        ],\n",
       "       [ 0.        ,  0.        ,  0.        ,  1.        ],\n",
       "       [ 0.70710678, -0.70710678,  0.        ,  0.        ],\n",
       "       [ 0.70710678,  0.70710678,  0.        ,  0.        ]])"
      ]
     },
     "execution_count": 5,
     "metadata": {},
     "output_type": "execute_result"
    }
   ],
   "source": [
    "V"
   ]
  },
  {
   "cell_type": "code",
   "execution_count": 6,
   "id": "d8311f1a",
   "metadata": {},
   "outputs": [
    {
     "data": {
      "text/plain": [
       "array([[ 0.        ,  0.        ,  1.        ,  0.        ],\n",
       "       [ 0.        ,  0.        ,  0.        ,  1.        ],\n",
       "       [ 0.70710678, -0.70710678,  0.        ,  0.        ],\n",
       "       [ 0.70710678,  0.70710678,  0.        ,  0.        ]])"
      ]
     },
     "execution_count": 6,
     "metadata": {},
     "output_type": "execute_result"
    }
   ],
   "source": [
    "# here identical to eigenvalue decomposition:\n",
    "w,v = np.linalg.eig(tau0)\n",
    "v"
   ]
  },
  {
   "cell_type": "code",
   "execution_count": 7,
   "id": "a5bb589a",
   "metadata": {},
   "outputs": [
    {
     "data": {
      "text/plain": [
       "True"
      ]
     },
     "execution_count": 7,
     "metadata": {},
     "output_type": "execute_result"
    }
   ],
   "source": [
    "np.allclose(V @ L @ V.T, tau0)"
   ]
  },
  {
   "cell_type": "code",
   "execution_count": 8,
   "id": "d7ecd92b",
   "metadata": {},
   "outputs": [
    {
     "name": "stdout",
     "output_type": "stream",
     "text": [
      "l1...l4 analyt:  [1.0, 0.9024999999999999, 0.020000000000000004, 0.0]\n",
      "perm possible:  [array([2]), array([3]), 0, 1]\n",
      "perm taken:     [2, 3, 0, 1]\n"
     ]
    }
   ],
   "source": [
    "# We want the same ordering as in (126) and (127) to avoid expensive looping over lambda_4=0:\n",
    "l1 = 0.5*(np.abs(alpha)**2+np.abs(delta)**2 + np.sqrt((np.abs(alpha)**2-np.abs(delta)**2)**2+4*np.abs(gamma)**4))\n",
    "l2 = 0.5*(np.abs(alpha)**2+np.abs(delta)**2 - np.sqrt((np.abs(alpha)**2-np.abs(delta)**2)**2+4*np.abs(gamma)**4))\n",
    "l3 = 2*np.abs(beta)**2\n",
    "l4 = 0.0\n",
    "print(\"l1...l4 analyt: \",[l1,l2,l3,l4])\n",
    "\n",
    "cols = [list(V[:,i]) for i in range(4)] # all eigenvectors\n",
    "V3 = [0,0, 1/np.sqrt(2),1/np.sqrt(2)]\n",
    "V4 = [0,0,-1/np.sqrt(2),1/np.sqrt(2)]\n",
    "V3_ind = cols.index(V3) # identify correct indices of V3, V4 from known analytical form ...\n",
    "V4_ind = cols.index(V4) # ... (because l2==l4 might occur)\n",
    "\n",
    "perm = [np.where(np.isclose(lambda_vals,l1))[0], np.where(np.isclose(lambda_vals,l2))[0], V3_ind, V4_ind]\n",
    "print(\"perm possible: \",perm) # all possible permutations of eigenvalue/vector ordering\n",
    "\n",
    "V_ordered = V.copy()\n",
    "for j in range(2): # find correct eigenvector positions to first two eigenvalues\n",
    "    if len(perm[j])>1:\n",
    "        allowed_inds = [x for x in perm[j] if (x!=V3_ind and x!=V4_ind)] # exclude mu=3,4 indices\n",
    "        if len(allowed_inds)>1: # take care of possible l1==l2\n",
    "            Vj_ind = allowed_inds[j]\n",
    "            V_ordered[:,j] = V[:,Vj_ind]\n",
    "            perm[j] = Vj_ind\n",
    "        else:\n",
    "            Vj_ind = allowed_inds[0]\n",
    "            V_ordered[:,j] = V[:,Vj_ind]\n",
    "            perm[j] = Vj_ind\n",
    "    else:\n",
    "        Vj_ind = perm[j][0]\n",
    "        V_ordered[:,j] = V[:,Vj_ind]\n",
    "        perm[j] = Vj_ind\n",
    "V_ordered[:,2] = V3\n",
    "V_ordered[:,3] = V4\n",
    "print(\"perm taken:    \",perm)\n",
    "lambda_vals = np.array([l1,l2,l3,l4])\n",
    "L, V = np.diag(lambda_vals), V_ordered"
   ]
  },
  {
   "cell_type": "code",
   "execution_count": 9,
   "id": "dbbd02eb",
   "metadata": {},
   "outputs": [
    {
     "data": {
      "text/plain": [
       "array([[ 1.        ,  0.        ,  0.        ,  0.        ],\n",
       "       [ 0.        ,  1.        ,  0.        ,  0.        ],\n",
       "       [ 0.        ,  0.        ,  0.70710678, -0.70710678],\n",
       "       [ 0.        ,  0.        ,  0.70710678,  0.70710678]])"
      ]
     },
     "execution_count": 9,
     "metadata": {},
     "output_type": "execute_result"
    }
   ],
   "source": [
    "V"
   ]
  },
  {
   "cell_type": "code",
   "execution_count": 10,
   "id": "63aff96a",
   "metadata": {},
   "outputs": [
    {
     "name": "stdout",
     "output_type": "stream",
     "text": [
      "all elems in perm:                 True\n",
      "Schur decomposition tau0=V*L*V.T:  True\n",
      "V is orthogonal:                   True\n",
      "V is correctly ordered:            True\n"
     ]
    }
   ],
   "source": [
    "# Checks:\n",
    "print(\"all elems in perm:                \",all(x in [0,1,2,3] for x in perm))\n",
    "print(\"Schur decomposition tau0=V*L*V.T: \",np.allclose(V @ L @ V.T, tau0))\n",
    "print(\"V is orthogonal:                  \",np.allclose(V @ V.T,np.identity(4)))\n",
    "print(\"V is correctly ordered:           \",V[2,0]==0 and V[2,1]==0 and V[2,2]==1/np.sqrt(2) and V[2,3]==-1/np.sqrt(2))"
   ]
  },
  {
   "cell_type": "code",
   "execution_count": 11,
   "id": "f6f6bbe3",
   "metadata": {},
   "outputs": [],
   "source": [
    "# M_mu matrices constructed from V:\n",
    "Pu = np.array([[1,0],[0,0]])\n",
    "Pd = np.array([[0,0],[0,1]])\n",
    "M1 = V[0,0]*Pu + V[1,0]*Pd\n",
    "M2 = V[0,1]*Pu + V[1,1]*Pd\n",
    "M3 = (1.0/np.sqrt(2))*np.array([[0, 1],[1,0]])\n",
    "M4 = (1.0/np.sqrt(2))*np.array([[0,-1],[1,0]])\n",
    "M = [M1,M2,M3,M4]"
   ]
  },
  {
   "cell_type": "code",
   "execution_count": 12,
   "id": "ee98eda2",
   "metadata": {},
   "outputs": [
    {
     "name": "stdout",
     "output_type": "stream",
     "text": [
      "Tr[M1*M1.T] =  1.0\n",
      "Tr[M1*M2.T] =  0.0\n"
     ]
    }
   ],
   "source": [
    "print(\"Tr[M1*M1.T] = \",np.trace(M1 @ M1.T)) # realizes (74)\n",
    "print(\"Tr[M1*M2.T] = \",np.trace(M1 @ M2.T))"
   ]
  },
  {
   "cell_type": "code",
   "execution_count": 13,
   "id": "a5b7c551",
   "metadata": {},
   "outputs": [],
   "source": [
    "X = np.array([[1,0,0,0],\n",
    "              [0,0,0,1],\n",
    "              [0,0,1,0],\n",
    "              [0,1,0,0]\n",
    "             ])"
   ]
  },
  {
   "cell_type": "code",
   "execution_count": 14,
   "id": "bbdb8064",
   "metadata": {},
   "outputs": [
    {
     "data": {
      "text/plain": [
       "True"
      ]
     },
     "execution_count": 14,
     "metadata": {},
     "output_type": "execute_result"
    }
   ],
   "source": [
    "np.allclose(X, X.T) # X is diagonal"
   ]
  },
  {
   "cell_type": "markdown",
   "id": "da10236a",
   "metadata": {},
   "source": [
    "## Functions to calculate all relevant transfer row operators: "
   ]
  },
  {
   "cell_type": "markdown",
   "id": "1305a541",
   "metadata": {},
   "source": [
    "Function calculating the norm of $\\rho$ by exponentiating the single transfer row as \n",
    "\\begin{equation}\n",
    "Tr_A[\\rho_A] = Tr_A[Tr_B[\\rho]] = Tr[\\rho] = Tr[E^{(1) N_y}] ,\n",
    "\\end{equation}\n",
    "where E$^{(1)}$ is the trace along a row, i.e.\n",
    "\\begin{equation}\n",
    "E^{(1)} = Tr_{\\text{row}}[\\tau_0^{\\otimes N_x}] = \\sum_{\\{\\mu\\}} (\\lambda_{\\mu_1} \\cdot\\ldots\\cdot \\lambda_{\\mu_{N_x}}) Tr[M_{\\mu_1} \\cdot\\ldots\\cdot M_{\\mu_{N_x}}] M_{\\mu_1} \\otimes\\ldots\\otimes M_{\\mu_{N_x}},\n",
    "\\end{equation}\n",
    "cf. eq. (75)"
   ]
  },
  {
   "cell_type": "code",
   "execution_count": 15,
   "id": "029aeb5b",
   "metadata": {},
   "outputs": [],
   "source": [
    "def single_transfer_row(Nx, lambdas, M):\n",
    "    print(\"calculating E1 ...\")\n",
    "    # for practical calculations, assume a thin lattice of dimensions Nx<9 << Ny~100\n",
    "    E1 = np.zeros((2**Nx,2**Nx))\n",
    "\n",
    "    # At every lattice site x along a row with length Nx, \n",
    "    # the index mu can take effectively 3 different values mu=(0,1,2) [because lambda_4=0].\n",
    "    # We sum up all the possible 3^Nx configurations contributing to E1:\n",
    "    for config in product(range(3), repeat=Nx):\n",
    "        mu_of_x = np.array(config) # = \\mu(x)\n",
    "        M_prod_mu = np.identity(2)\n",
    "        lambda_prod_mu = 1.0\n",
    "        \n",
    "        # loop (product) along a row x:\n",
    "        for x in range(Nx):\n",
    "            lambda_prod_mu *= lambdas[mu_of_x[x]] # = \\prod_x lambda_{\\mu(x)}\n",
    "            M_prod_mu = M_prod_mu @ M[mu_of_x[x]] # = \\prod_x M_{\\mu(x)}\n",
    "        \n",
    "        # calculate tensor product M_{\\mu(x=1)} x...x M_{\\mu(x=Nx)}\n",
    "        # to get matrix form of E1:\n",
    "        M_tensor_mu = np.kron(M[mu_of_x[0]], M[mu_of_x[1]])\n",
    "        for x in range(2,Nx):\n",
    "            M_tensor_mu = np.kron(M_tensor_mu, M[mu_of_x[x]])\n",
    "            \n",
    "        E1 = E1 + (lambda_prod_mu * np.trace(M_prod_mu) * M_tensor_mu)\n",
    "    return E1\n",
    "\n",
    "def norm_rho(Nx, Ny, lambdas, M):\n",
    "    print(\"calculating norm ...\")\n",
    "    # full state rho = E1^(Ny):\n",
    "    E1 = single_transfer_row(Nx,lambdas,M)\n",
    "    rho = np.linalg.matrix_power(E1,Ny)    \n",
    "    return np.trace(rho) # returns norm of state"
   ]
  },
  {
   "cell_type": "code",
   "execution_count": 16,
   "id": "648063a6",
   "metadata": {},
   "outputs": [
    {
     "name": "stdout",
     "output_type": "stream",
     "text": [
      "calculating norm ...\n",
      "calculating E1 ...\n"
     ]
    },
    {
     "data": {
      "text/plain": [
       "1.0000040007307887"
      ]
     },
     "execution_count": 16,
     "metadata": {},
     "output_type": "execute_result"
    }
   ],
   "source": [
    "nrm=norm_rho(4,100,lambda_vals,M)\n",
    "nrm"
   ]
  },
  {
   "cell_type": "markdown",
   "id": "85192cfb",
   "metadata": {},
   "source": [
    "Calculate the \"double transfer row\" $E^{(2)}=E^{(1)} \\otimes E^{(1)}$ explicitly with suitable (site-wise) tensor product structure:\n",
    "\n",
    "\\begin{align}\n",
    "E^{(2)} = \\sum_{\\{\\mu\\},\\{\\nu\\}} &(\\lambda_{\\mu_1} \\cdot\\ldots\\cdot \\lambda_{\\mu_{N_x}}) (\\lambda_{\\nu_1} \\cdot\\ldots\\cdot \\lambda_{\\nu_{N_x}}) Tr[M_{\\mu_1} \\cdot\\ldots\\cdot M_{\\mu_{N_x}}] Tr[M_{\\nu_1} \\cdot\\ldots\\cdot M_{\\nu_{N_x}}] \\\\\n",
    "&(M_{\\mu_1} \\otimes M_{\\nu_1}) \\otimes\\ldots\\otimes (M_{\\mu_{N_x}} \\otimes M_{\\nu_{N_x}})\n",
    "\\end{align}"
   ]
  },
  {
   "cell_type": "code",
   "execution_count": 17,
   "id": "89bcb505",
   "metadata": {},
   "outputs": [],
   "source": [
    "def double_transfer_row(Nx, lambdas, M):\n",
    "    print(\"calculating E2 ...\")\n",
    "    E2 = np.zeros((2**(2*Nx),2**(2*Nx)))\n",
    "\n",
    "    # At every lattice site x along the row with length Nx, \n",
    "    # the indices mu,nu can take 3 different values mu,nu=(0,1,2).\n",
    "    # We sum up all the possible (3*3)^Nx configurations contributing to E2:\n",
    "    for config in product(range(3),range(3), repeat=Nx):\n",
    "        munu_of_x = np.array(config) # contains mu(x) at index 2x, nu(x) at 2x+1\n",
    "        lambda_prod_mu = 1.0\n",
    "        lambda_prod_nu = 1.0\n",
    "        M_prod_mu = np.identity(2)\n",
    "        M_prod_nu = np.identity(2)\n",
    "        \n",
    "        # loop (product) along a row x:\n",
    "        for x in range(Nx):\n",
    "            lambda_prod_mu *= lambdas[munu_of_x[2*x]]   # = \\prod_x lambda_{\\mu(x)}\n",
    "            lambda_prod_nu *= lambdas[munu_of_x[2*x+1]] # = \\prod_x lambda_{\\nu(x)}\n",
    "            M_prod_mu = M_prod_mu @ M[munu_of_x[2*x]]   # = \\prod_x M_{\\mu(x)}\n",
    "            M_prod_nu = M_prod_nu @ M[munu_of_x[2*x+1]] # = \\prod_x M_{\\nu(x)}\n",
    "\n",
    "        # calculate tensor product  (M_{mu_1} x M_{nu_1}) x...x (M_{mu_Nx} x M_{nu_Nx})\n",
    "        # to get matrix form of E2:\n",
    "        M_tensor = np.kron(M[munu_of_x[0]], M[munu_of_x[1]])\n",
    "        for x in range(1,Nx):\n",
    "            M_tensor = np.kron(M_tensor, np.kron(M[munu_of_x[2*x]], M[munu_of_x[2*x+1]]))\n",
    "        \n",
    "        E2 = E2 + (lambda_prod_mu*lambda_prod_nu * np.trace(M_prod_mu)*np.trace(M_prod_nu) * M_tensor)\n",
    "    return E2"
   ]
  },
  {
   "cell_type": "code",
   "execution_count": 18,
   "id": "327ab0a1",
   "metadata": {},
   "outputs": [
    {
     "name": "stdout",
     "output_type": "stream",
     "text": [
      "calculating E2 ...\n"
     ]
    }
   ],
   "source": [
    "E2 = double_transfer_row(4, lambda_vals,M)"
   ]
  },
  {
   "cell_type": "code",
   "execution_count": 19,
   "id": "b74f347d",
   "metadata": {},
   "outputs": [
    {
     "data": {
      "text/plain": [
       "(256, 256)"
      ]
     },
     "execution_count": 19,
     "metadata": {},
     "output_type": "execute_result"
    }
   ],
   "source": [
    "E2.shape"
   ]
  },
  {
   "cell_type": "markdown",
   "id": "1d7462c3",
   "metadata": {},
   "source": [
    "The \"double transfer row\" $E^{(2)}=E^{(1)} \\otimes E^{(1)}$ could also be immediately constructed as a matrix, but then does not have the desired (site-wise) tensor product structure:"
   ]
  },
  {
   "cell_type": "code",
   "execution_count": 20,
   "id": "22f87910",
   "metadata": {},
   "outputs": [
    {
     "name": "stdout",
     "output_type": "stream",
     "text": [
      "calculating E1 ...\n"
     ]
    }
   ],
   "source": [
    "e1 = single_transfer_row(4,lambda_vals,M)\n",
    "e2 = np.kron(e1,e1)"
   ]
  },
  {
   "cell_type": "code",
   "execution_count": 21,
   "id": "0905b95b",
   "metadata": {},
   "outputs": [
    {
     "data": {
      "text/plain": [
       "False"
      ]
     },
     "execution_count": 21,
     "metadata": {},
     "output_type": "execute_result"
    }
   ],
   "source": [
    "np.allclose(e2,E2)"
   ]
  },
  {
   "cell_type": "code",
   "execution_count": 22,
   "id": "2a5ec286",
   "metadata": {},
   "outputs": [
    {
     "data": {
      "text/plain": [
       "0.0"
      ]
     },
     "execution_count": 22,
     "metadata": {},
     "output_type": "execute_result"
    }
   ],
   "source": [
    "np.trace(e2) - np.trace(E2)"
   ]
  },
  {
   "cell_type": "markdown",
   "id": "9ef81fcb",
   "metadata": {},
   "source": [
    "Calculate the boundary transfer row $E^{(2)}_{||}$ with two $X$ insertions:\n",
    "\n",
    "\\begin{align}\n",
    "E^{(2)}_{||} = \\sum_{\\{\\mu\\},\\{\\nu\\}} &(\\lambda_{\\mu_1} \\cdot\\ldots\\cdot \\lambda_{\\mu_{N_x}}) (\\lambda_{\\nu_1} \\cdot\\ldots\\cdot \\lambda_{\\nu_{N_x}}) \n",
    "Tr[X (M_{\\mu_1} \\otimes M_{\\nu_1}) \\cdot\\ldots\\cdot (M_{\\mu_{R_1}} \\otimes M_{\\nu_{R_1}}) X (M_{\\mu_{R_1+1}} \\otimes M_{\\nu_{R_1+1}}) \\cdot\\ldots\\cdot (M_{\\mu_{N_x}} \\otimes M_{\\nu_{N_x}})] \\\\\n",
    "&(M_{\\mu_1} \\otimes M_{\\nu_1}) \\otimes\\ldots\\otimes (M_{\\mu_{N_x}} \\otimes M_{\\nu_{N_x}})\n",
    "\\end{align}"
   ]
  },
  {
   "cell_type": "code",
   "execution_count": 23,
   "id": "a21310f9",
   "metadata": {},
   "outputs": [],
   "source": [
    "def boundary_transfer_row(Nx, R1, X, lambdas, M):\n",
    "    print(\"calculating E2p ...\")\n",
    "    if R1>=Nx:\n",
    "        print(\"Error in def boundary_transfer_row(Nx, R1, lambdas, M): choose R1<Nx\")\n",
    "        return 0\n",
    "    E2p = np.zeros((2**(2*Nx),2**(2*Nx)))\n",
    "\n",
    "    # At every lattice site x along the row with length Nx, \n",
    "    # the indices mu,nu can take 3 different values mu,nu=(0,1,2).\n",
    "    # We sum up all the possible (3*3)^Nx configurations contributing to E2p:\n",
    "    for config in product(range(3),range(3), repeat=Nx):\n",
    "        munu_of_x = np.array(config) # contains mu(x) at index 2x, nu(x) at 2x+1\n",
    "        lambda_prod_mu = 1.0\n",
    "        lambda_prod_nu = 1.0\n",
    "        XM_prod = X\n",
    "        \n",
    "        # loop (product) along a row x:\n",
    "        for x in range(Nx):\n",
    "            lambda_prod_mu *= lambdas[munu_of_x[2*x]]   # = \\prod_x lambda_{\\mu(x)}\n",
    "            lambda_prod_nu *= lambdas[munu_of_x[2*x+1]] # = \\prod_x lambda_{\\nu(x)}\n",
    "            # multiply iteratively all matrices along row:\n",
    "            # XM_prod = X*(M_{mu_1} \\otimes M_{nu_1})...(M_{mu_R1} \\otimes M_{nu_R1})*X \n",
    "            #           *(M_{mu_{R1+1}} \\otimes M_{nu_{R1+1}})...(M_{mu_Nx} \\otimes M_{nu_Nx})\n",
    "            if x == R1-1:\n",
    "                XM_prod = XM_prod @ np.kron(M[munu_of_x[2*x]], M[munu_of_x[2*x+1]]) @ X\n",
    "            else:\n",
    "                XM_prod = XM_prod @ np.kron(M[munu_of_x[2*x]], M[munu_of_x[2*x+1]])\n",
    "\n",
    "        # calculate tensor product  (M_{mu_1} x M_{nu_1}) x...x (M_{mu_Nx} x M_{nu_Nx})\n",
    "        # to get matrix form of E2p:\n",
    "        M_tensor = np.kron(M[munu_of_x[0]], M[munu_of_x[1]])\n",
    "        for x in range(1,Nx):\n",
    "            M_tensor = np.kron(M_tensor, np.kron(M[munu_of_x[2*x]], M[munu_of_x[2*x+1]]))\n",
    "        \n",
    "        E2p = E2p + (lambda_prod_mu*lambda_prod_nu * np.trace(XM_prod) * M_tensor)\n",
    "    return E2p"
   ]
  },
  {
   "cell_type": "code",
   "execution_count": 24,
   "id": "b072ab38",
   "metadata": {},
   "outputs": [
    {
     "name": "stdout",
     "output_type": "stream",
     "text": [
      "calculating E2p ...\n"
     ]
    }
   ],
   "source": [
    "E2p = boundary_transfer_row(4,2,X,lambda_vals,M)"
   ]
  },
  {
   "cell_type": "code",
   "execution_count": 25,
   "id": "f8db08f1",
   "metadata": {},
   "outputs": [
    {
     "data": {
      "text/plain": [
       "(256, 256)"
      ]
     },
     "execution_count": 25,
     "metadata": {},
     "output_type": "execute_result"
    }
   ],
   "source": [
    "E2p.shape"
   ]
  },
  {
   "cell_type": "markdown",
   "id": "38fd8ac6",
   "metadata": {},
   "source": [
    "Calculate the \"bottom\" and \"top\" boundary row \n",
    "$$\\mathcal X(R_1) = X(x=1) \\otimes \\ldots \\otimes X(x=R_1) \\otimes \\mathbb{1}(x=R_1+1) \\otimes \\ldots \\otimes \\mathbb{1}(x=N_x)$$"
   ]
  },
  {
   "cell_type": "code",
   "execution_count": 26,
   "id": "e20ae267",
   "metadata": {},
   "outputs": [],
   "source": [
    "def boundary_operator(Nx, R1, X):\n",
    "    print(\"calculating XX ...\")\n",
    "    XX = X\n",
    "    for x in range(1,Nx):\n",
    "        if x < R1:\n",
    "            XX = np.kron(XX, X)\n",
    "        else:\n",
    "            XX = np.kron(XX, np.identity(4))\n",
    "    return XX"
   ]
  },
  {
   "cell_type": "code",
   "execution_count": 27,
   "id": "15e156f3",
   "metadata": {},
   "outputs": [
    {
     "name": "stdout",
     "output_type": "stream",
     "text": [
      "calculating XX ...\n"
     ]
    },
    {
     "data": {
      "text/plain": [
       "(256, 256)"
      ]
     },
     "execution_count": 27,
     "metadata": {},
     "output_type": "execute_result"
    }
   ],
   "source": [
    "xx = boundary_operator(4,2,X)\n",
    "xx.shape"
   ]
  },
  {
   "cell_type": "markdown",
   "id": "18ee0e10",
   "metadata": {},
   "source": [
    "Calculate the full normalized purity for a periodic system of dimensions $N_x \\times N_y$ and a subsystem of size $R_1 \\times R_2$:\n",
    "\n",
    "\\begin{equation}\n",
    "\\bar p_2 = \\frac{Tr[\\rho_A^2]}{Tr^2[\\rho_A]} = \\frac{Tr[\\mathcal X(R_1) E^{(2)R_2}_{||}(R_1) \\mathcal X(R_1) E^{(2) N_y-R_2}]}{Tr^2[E^{(1) N_y}]}\n",
    "\\end{equation}"
   ]
  },
  {
   "cell_type": "code",
   "execution_count": 28,
   "id": "6dc1846b",
   "metadata": {},
   "outputs": [],
   "source": [
    "def purity(Nx, Ny, R1, R2, X, lambdas, M):\n",
    "    print(\"calculating purity ...\")\n",
    "    # matrix rows:\n",
    "    nrm = norm_rho(Nx, Ny, lambdas, M)\n",
    "    E2  = double_transfer_row(Nx, lambdas, M)\n",
    "    E2p = boundary_transfer_row(Nx, R1, X, lambdas, M)\n",
    "    XX  = boundary_operator(Nx, R1, X)\n",
    "    \n",
    "    # overall tiled matrix lattice:\n",
    "    rho_A_2 = XX @ np.linalg.matrix_power(E2p,R2) @ XX @ np.linalg.matrix_power(E2,Ny-R2)\n",
    "    \n",
    "    # normalized purity:\n",
    "    p2norm = np.trace(rho_A_2)/nrm**2\n",
    "    \n",
    "    return p2norm"
   ]
  },
  {
   "cell_type": "code",
   "execution_count": 29,
   "id": "c3e6a1da",
   "metadata": {},
   "outputs": [
    {
     "name": "stdout",
     "output_type": "stream",
     "text": [
      "calculating purity ...\n",
      "calculating norm ...\n",
      "calculating E1 ...\n",
      "calculating E2 ...\n",
      "calculating E2p ...\n",
      "calculating XX ...\n"
     ]
    },
    {
     "data": {
      "text/plain": [
       "0.9999987601964608"
      ]
     },
     "execution_count": 29,
     "metadata": {},
     "output_type": "execute_result"
    }
   ],
   "source": [
    "p2 = purity(4,100,2,60,X,lambda_vals,M)\n",
    "p2"
   ]
  },
  {
   "cell_type": "code",
   "execution_count": 30,
   "id": "536389bb",
   "metadata": {},
   "outputs": [
    {
     "data": {
      "text/plain": [
       "1.2398043077229056e-06"
      ]
     },
     "execution_count": 30,
     "metadata": {},
     "output_type": "execute_result"
    }
   ],
   "source": [
    "s2 = -np.log(p2)\n",
    "s2"
   ]
  },
  {
   "cell_type": "code",
   "execution_count": null,
   "id": "b383f5c1",
   "metadata": {},
   "outputs": [],
   "source": []
  }
 ],
 "metadata": {
  "kernelspec": {
   "display_name": "Python 3 (ipykernel)",
   "language": "python",
   "name": "python3"
  },
  "language_info": {
   "codemirror_mode": {
    "name": "ipython",
    "version": 3
   },
   "file_extension": ".py",
   "mimetype": "text/x-python",
   "name": "python",
   "nbconvert_exporter": "python",
   "pygments_lexer": "ipython3",
   "version": "3.10.9"
  }
 },
 "nbformat": 4,
 "nbformat_minor": 5
}
